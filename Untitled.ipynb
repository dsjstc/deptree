{
 "cells": [
  {
   "cell_type": "code",
   "execution_count": 50,
   "metadata": {},
   "outputs": [
    {
     "data": {
      "text/plain": [
       "<module 'fdeptree' from '/home/at/data/dev/deptree/fdeptree.py'>"
      ]
     },
     "execution_count": 50,
     "metadata": {},
     "output_type": "execute_result"
    }
   ],
   "source": [
    "from fdeptree import FDepTree\n",
    "from importlib import reload\n",
    "reload(fdeptree)"
   ]
  },
  {
   "cell_type": "code",
   "execution_count": 51,
   "metadata": {},
   "outputs": [],
   "source": [
    "def treenodes(tree,path=Path.cwd()):\n",
    "    # returns a single node.\n",
    "    roots = list(tree.keys())\n",
    "    for k in roots:\n",
    "        n = FDepTree(k)\n",
    "        c = tree[k]\n",
    "        if not isinstance(c, collections.Container): c = [c]\n",
    "        childnodes = []\n",
    "        for g in c:\n",
    "            childnodes.extend( FDepTree.globnodes(g,path) )\n",
    "            "
   ]
  },
  {
   "cell_type": "code",
   "execution_count": 63,
   "metadata": {},
   "outputs": [],
   "source": [
    "base = Path('/tmp/test')\n",
    "mtl = { 'root': { 'b1': 'c*'\n",
    "                 ,'b2': None } }\n",
    "       \n",
    "#r = treenodes(mtl, base)\n"
   ]
  },
  {
   "cell_type": "code",
   "execution_count": 57,
   "metadata": {},
   "outputs": [
    {
     "name": "stdout",
     "output_type": "stream",
     "text": [
      "['c*', None]\n"
     ]
    }
   ],
   "source": [
    "# return a list of top-level nodes\n",
    "def nestedtonodelist(data):\n",
    "    if isinstance(data, list):\n",
    "        for d in data:\n",
    "            yield from nestedtonodelist(d)\n",
    "    elif isinstance(data, dict):\n",
    "        for val in data.values():\n",
    "            yield from nestedtonodelist(val)\n",
    "    else:\n",
    "        yield data\n",
    "        \n",
    "print(list(nestedtonodelist(mtl)))\n",
    "\n"
   ]
  },
  {
   "cell_type": "code",
   "execution_count": 69,
   "metadata": {},
   "outputs": [
    {
     "data": {
      "text/plain": [
       "'a'"
      ]
     },
     "execution_count": 69,
     "metadata": {},
     "output_type": "execute_result"
    }
   ],
   "source": [
    "r = ['a']\n",
    "list(r)[0]"
   ]
  },
  {
   "cell_type": "code",
   "execution_count": null,
   "metadata": {},
   "outputs": [],
   "source": []
  }
 ],
 "metadata": {
  "kernelspec": {
   "display_name": "Python 3",
   "language": "python",
   "name": "python3"
  },
  "language_info": {
   "codemirror_mode": {
    "name": "ipython",
    "version": 3
   },
   "file_extension": ".py",
   "mimetype": "text/x-python",
   "name": "python",
   "nbconvert_exporter": "python",
   "pygments_lexer": "ipython3",
   "version": "3.7.1"
  }
 },
 "nbformat": 4,
 "nbformat_minor": 2
}
